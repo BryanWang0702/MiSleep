{
 "cells": [
  {
   "cell_type": "markdown",
   "id": "90133a1b",
   "metadata": {},
   "source": [
    "### MiSleep Data Structure\n",
    "\n",
    "MiSleep is for EEG/EMG signal processing and visualization. For the signals, there is a data structure (actually is a python class) called `MiData`, and for the annotation part, there is a data structure called `MiAnno`, so you can use MiData and MiAnno to do downstream analysis.\n",
    "\n",
    "#### MiData\n",
    "\n",
    "Referred to [edf (European Data Format)](https://edfplus.info), the `MiData` contains the signal data (`midata.signals`), channel names of each signal (`midata.channels`), sampling frequency (`midata.sf`), the acquisition time of the signal (`midata.time`), and decription (`midata.describe`).\n",
    "\n",
    "Stadard edf data (`.edf`) can be directly load with `misleep.load_edf()`, and a self-organized matlab format (`.mat`) data can be loaded with `misleep.load_mat()`. For more information, plsease check `misleep.ui.signal_io`.\n",
    "\n",
    "#### MiAnno"
   ]
  },
  {
   "cell_type": "code",
   "execution_count": null,
   "id": "2ea7bf7e",
   "metadata": {},
   "outputs": [],
   "source": []
  }
 ],
 "metadata": {
  "kernelspec": {
   "display_name": "Python 3",
   "language": "python",
   "name": "python3"
  },
  "language_info": {
   "codemirror_mode": {
    "name": "ipython",
    "version": 3
   },
   "file_extension": ".py",
   "mimetype": "text/x-python",
   "name": "python",
   "nbconvert_exporter": "python",
   "pygments_lexer": "ipython3",
   "version": "3.8.20"
  },
  "toc": {
   "base_numbering": 1,
   "nav_menu": {},
   "number_sections": true,
   "sideBar": true,
   "skip_h1_title": false,
   "title_cell": "Table of Contents",
   "title_sidebar": "Contents",
   "toc_cell": true,
   "toc_position": {},
   "toc_section_display": true,
   "toc_window_display": false
  }
 },
 "nbformat": 4,
 "nbformat_minor": 5
}
