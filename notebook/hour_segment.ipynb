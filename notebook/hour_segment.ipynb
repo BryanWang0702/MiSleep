{
 "cells": [
  {
   "cell_type": "code",
   "execution_count": 1,
   "metadata": {},
   "outputs": [
    {
     "name": "stdout",
     "output_type": "stream",
     "text": [
      "d:\\data\\workplace\\EEGProcessing\\MiSleep_v2\\notebook\n"
     ]
    }
   ],
   "source": [
    "import misleep"
   ]
  },
  {
   "cell_type": "code",
   "execution_count": 2,
   "metadata": {},
   "outputs": [
    {
     "ename": "ValueError",
     "evalue": "invalid literal for int() with base 10: '86400.031'",
     "output_type": "error",
     "traceback": [
      "\u001b[1;31m---------------------------------------------------------------------------\u001b[0m",
      "\u001b[1;31mValueError\u001b[0m                                Traceback (most recent call last)",
      "Cell \u001b[1;32mIn[2], line 1\u001b[0m\n\u001b[1;32m----> 1\u001b[0m mianno \u001b[38;5;241m=\u001b[39m \u001b[43mmisleep\u001b[49m\u001b[38;5;241;43m.\u001b[39;49m\u001b[43mload_misleep_anno\u001b[49m\u001b[43m(\u001b[49m\u001b[38;5;124;43mr\u001b[39;49m\u001b[38;5;124;43m'\u001b[39;49m\u001b[38;5;130;43;01m\\\\\u001b[39;49;00m\u001b[38;5;124;43m172.16.41.188\u001b[39;49m\u001b[38;5;124;43m\\\u001b[39;49m\u001b[38;5;124;43mliyating\u001b[39;49m\u001b[38;5;124;43m\\\u001b[39;49m\u001b[38;5;124;43mData\u001b[39;49m\u001b[38;5;124;43m\\\u001b[39;49m\u001b[38;5;124;43mSD\u001b[39;49m\u001b[38;5;124;43m\\\u001b[39;49m\u001b[38;5;124;43m20241105_0700_24h_SD_3M_P92\u001b[39;49m\u001b[38;5;124;43m\\\u001b[39;49m\u001b[38;5;124;43mmouse7_M\u001b[39;49m\u001b[38;5;124;43m\\\u001b[39;49m\u001b[38;5;124;43mmouse7_M.txt\u001b[39;49m\u001b[38;5;124;43m'\u001b[39;49m\u001b[43m)\u001b[49m\n\u001b[0;32m      2\u001b[0m midata \u001b[38;5;241m=\u001b[39m misleep\u001b[38;5;241m.\u001b[39mload_mat(\u001b[38;5;124mr\u001b[39m\u001b[38;5;124m'\u001b[39m\u001b[38;5;130;01m\\\\\u001b[39;00m\u001b[38;5;124m172.16.41.188\u001b[39m\u001b[38;5;124m\\\u001b[39m\u001b[38;5;124mliyating\u001b[39m\u001b[38;5;124m\\\u001b[39m\u001b[38;5;124mData\u001b[39m\u001b[38;5;124m\\\u001b[39m\u001b[38;5;124mSD\u001b[39m\u001b[38;5;124m\\\u001b[39m\u001b[38;5;124m20241105_0700_24h_SD_3M_P92\u001b[39m\u001b[38;5;124m\\\u001b[39m\u001b[38;5;124mmouse7_M\u001b[39m\u001b[38;5;124m\\\u001b[39m\u001b[38;5;124mmouse7_M.mat\u001b[39m\u001b[38;5;124m'\u001b[39m)\n",
      "File \u001b[1;32md:\\miniconda3\\envs\\EEG\\lib\\site-packages\\misleep\\io\\annotation_io.py:39\u001b[0m, in \u001b[0;36mload_misleep_anno\u001b[1;34m(file_path)\u001b[0m\n\u001b[0;32m     36\u001b[0m     \u001b[38;5;28;01mraise\u001b[39;00m \u001b[38;5;167;01mAssertionError\u001b[39;00m(\u001b[38;5;124m\"\u001b[39m\u001b[38;5;124mInvalid\u001b[39m\u001b[38;5;124m\"\u001b[39m)\n\u001b[0;32m     38\u001b[0m marker \u001b[38;5;241m=\u001b[39m annotation[marker_idx \u001b[38;5;241m+\u001b[39m \u001b[38;5;241m1\u001b[39m: start_end_idx]\n\u001b[1;32m---> 39\u001b[0m marker \u001b[38;5;241m=\u001b[39m \u001b[43mmarker2mianno\u001b[49m\u001b[43m(\u001b[49m\u001b[43mmarker\u001b[49m\u001b[43m)\u001b[49m\n\u001b[0;32m     41\u001b[0m start_end \u001b[38;5;241m=\u001b[39m annotation[start_end_idx \u001b[38;5;241m+\u001b[39m \u001b[38;5;241m1\u001b[39m: sleep_state_idx]\n\u001b[0;32m     42\u001b[0m start_end \u001b[38;5;241m=\u001b[39m start_end2mianno(start_end)\n",
      "File \u001b[1;32md:\\miniconda3\\envs\\EEG\\lib\\site-packages\\misleep\\utils\\annotation.py:35\u001b[0m, in \u001b[0;36mmarker2mianno\u001b[1;34m(marker)\u001b[0m\n\u001b[0;32m     33\u001b[0m \u001b[38;5;28;01mif\u001b[39;00m marker \u001b[38;5;241m!=\u001b[39m [] \u001b[38;5;129;01mor\u001b[39;00m marker \u001b[38;5;129;01mis\u001b[39;00m \u001b[38;5;129;01mnot\u001b[39;00m \u001b[38;5;28;01mNone\u001b[39;00m:\n\u001b[0;32m     34\u001b[0m     marker \u001b[38;5;241m=\u001b[39m [each\u001b[38;5;241m.\u001b[39msplit(\u001b[38;5;124m'\u001b[39m\u001b[38;5;124m, \u001b[39m\u001b[38;5;124m'\u001b[39m) \u001b[38;5;28;01mfor\u001b[39;00m each \u001b[38;5;129;01min\u001b[39;00m marker]\n\u001b[1;32m---> 35\u001b[0m     marker \u001b[38;5;241m=\u001b[39m [[\u001b[38;5;28mint\u001b[39m(each[\u001b[38;5;241m1\u001b[39m]), each[\u001b[38;5;241m7\u001b[39m]] \u001b[38;5;28;01mfor\u001b[39;00m each \u001b[38;5;129;01min\u001b[39;00m marker]\n\u001b[0;32m     36\u001b[0m     \u001b[38;5;28;01mreturn\u001b[39;00m marker\n\u001b[0;32m     37\u001b[0m \u001b[38;5;28;01mreturn\u001b[39;00m []\n",
      "File \u001b[1;32md:\\miniconda3\\envs\\EEG\\lib\\site-packages\\misleep\\utils\\annotation.py:35\u001b[0m, in \u001b[0;36m<listcomp>\u001b[1;34m(.0)\u001b[0m\n\u001b[0;32m     33\u001b[0m \u001b[38;5;28;01mif\u001b[39;00m marker \u001b[38;5;241m!=\u001b[39m [] \u001b[38;5;129;01mor\u001b[39;00m marker \u001b[38;5;129;01mis\u001b[39;00m \u001b[38;5;129;01mnot\u001b[39;00m \u001b[38;5;28;01mNone\u001b[39;00m:\n\u001b[0;32m     34\u001b[0m     marker \u001b[38;5;241m=\u001b[39m [each\u001b[38;5;241m.\u001b[39msplit(\u001b[38;5;124m'\u001b[39m\u001b[38;5;124m, \u001b[39m\u001b[38;5;124m'\u001b[39m) \u001b[38;5;28;01mfor\u001b[39;00m each \u001b[38;5;129;01min\u001b[39;00m marker]\n\u001b[1;32m---> 35\u001b[0m     marker \u001b[38;5;241m=\u001b[39m [[\u001b[38;5;28;43mint\u001b[39;49m\u001b[43m(\u001b[49m\u001b[43meach\u001b[49m\u001b[43m[\u001b[49m\u001b[38;5;241;43m1\u001b[39;49m\u001b[43m]\u001b[49m\u001b[43m)\u001b[49m, each[\u001b[38;5;241m7\u001b[39m]] \u001b[38;5;28;01mfor\u001b[39;00m each \u001b[38;5;129;01min\u001b[39;00m marker]\n\u001b[0;32m     36\u001b[0m     \u001b[38;5;28;01mreturn\u001b[39;00m marker\n\u001b[0;32m     37\u001b[0m \u001b[38;5;28;01mreturn\u001b[39;00m []\n",
      "\u001b[1;31mValueError\u001b[0m: invalid literal for int() with base 10: '86400.031'"
     ]
    }
   ],
   "source": [
    "mianno = misleep.load_misleep_anno(r'\\\\172.16.41.188\\liyating\\Data\\SD\\20241105_0700_24h_SD_3M_P92\\mouse7_M\\mouse7_M.txt')\n",
    "midata = misleep.load_mat(r'\\\\172.16.41.188\\liyating\\Data\\SD\\20241105_0700_24h_SD_3M_P92\\mouse7_M\\mouse7_M.mat')"
   ]
  }
 ],
 "metadata": {
  "kernelspec": {
   "display_name": "EEG",
   "language": "python",
   "name": "python3"
  },
  "language_info": {
   "codemirror_mode": {
    "name": "ipython",
    "version": 3
   },
   "file_extension": ".py",
   "mimetype": "text/x-python",
   "name": "python",
   "nbconvert_exporter": "python",
   "pygments_lexer": "ipython3",
   "version": "3.8.18"
  }
 },
 "nbformat": 4,
 "nbformat_minor": 2
}
